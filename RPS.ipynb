{
 "cells": [
  {
   "cell_type": "code",
   "execution_count": 16,
   "metadata": {},
   "outputs": [
    {
     "ename": "TypeError",
     "evalue": "'int' object is not subscriptable",
     "output_type": "error",
     "traceback": [
      "\u001b[1;31m---------------------------------------------------------------------------\u001b[0m",
      "\u001b[1;31mTypeError\u001b[0m                                 Traceback (most recent call last)",
      "Cell \u001b[1;32mIn[16], line 10\u001b[0m\n\u001b[0;32m      7\u001b[0m choice  \u001b[39m=\u001b[39m (\u001b[39m\"\u001b[39m\u001b[39mrock\u001b[39m\u001b[39m\"\u001b[39m, \u001b[39m\"\u001b[39m\u001b[39mpaper\u001b[39m\u001b[39m\"\u001b[39m,\u001b[39m\"\u001b[39m\u001b[39mscissors\u001b[39m\u001b[39m\"\u001b[39m)\n\u001b[0;32m      9\u001b[0m \u001b[39mwhile\u001b[39;00m play \u001b[39m<\u001b[39m\u001b[39m=\u001b[39m\u001b[39m5\u001b[39m:\n\u001b[1;32m---> 10\u001b[0m     \u001b[39mprint\u001b[39m(\u001b[39mf\u001b[39m\u001b[39m\"\u001b[39m\u001b[39m1. \u001b[39m\u001b[39m{\u001b[39;00mplay[\u001b[39m0\u001b[39;49m]\u001b[39m}\u001b[39;00m\u001b[39m    2. \u001b[39m\u001b[39m{\u001b[39;00mplay[\u001b[39m1\u001b[39m]\u001b[39m}\u001b[39;00m\u001b[39m    3. \u001b[39m\u001b[39m{\u001b[39;00mplay[\u001b[39m2\u001b[39m]\u001b[39m}\u001b[39;00m\u001b[39m\"\u001b[39m)\n\u001b[0;32m     12\u001b[0m \u001b[39mwhile\u001b[39;00m \u001b[39mTrue\u001b[39;00m:\n\u001b[0;32m     13\u001b[0m     computer \u001b[39m=\u001b[39m choice[random\u001b[39m.\u001b[39mrandint(\u001b[39m0\u001b[39m,\u001b[39m2\u001b[39m)]\n",
      "\u001b[1;31mTypeError\u001b[0m: 'int' object is not subscriptable"
     ]
    }
   ],
   "source": [
    "# Rock Paper Scissors\n",
    "\n",
    "import random \n",
    "user_score = 0\n",
    "computer_score = 0\n",
    "play = 1\n",
    "choice  = (\"rock\", \"paper\",\"scissors\")\n",
    "\n",
    "while play <=5:\n",
    "    print(f\"1. {play[0]}    2. {play[1]}    3. {play[2]}\")\n",
    "\n",
    "while True:\n",
    "    computer = choice[random.randint(0,2)]\n",
    "    user = input(\"rock, paper or scissors? or dou you want to end the fun?\")\n",
    "    if user == \"end the fun\":\n",
    "        print(\"The fun has ended.\")\n",
    "        break \n",
    "\n",
    "    elif user == computer:\n",
    "        print(\"you've tied!!\\n\")\n",
    "    \n",
    "    elif user == \"rock\":\n",
    "        if computer == \"paper\":\n",
    "            computer_score += 1\n",
    "            print(\"The user has lost!\")\n",
    "        else:\n",
    "            user_score += 1\n",
    "            print(\"The user has won!\")\n",
    "    \n",
    "    elif user == \"paper\":\n",
    "        if computer == \"scissors\":\n",
    "            computer_score += 1\n",
    "            print(\"The user has lost!\")\n",
    "        else:\n",
    "            user_score += 1\n",
    "            print(\"The user has won!\")\n",
    "    \n",
    "    elif user == \"scissors\":\n",
    "        if computer == \"rock\":\n",
    "            computer_score += 1\n",
    "            print(\"The user has lost!\")\n",
    "        else:\n",
    "            user_score += 1\n",
    "            print(\"The user has won!\")\n",
    "        play += 1\n",
    "    \n",
    "    else:\n",
    "        print(\"check for your mistake please!\")\n",
    "\n",
    "\n",
    "print(f\"Your Score : {user_score}\\nComputer Score : {computer_score}\")\n",
    "\n",
    "\n",
    "            \n",
    "            \n",
    "\n",
    "\n",
    "\n",
    "\n",
    "    \n"
   ]
  }
 ],
 "metadata": {
  "kernelspec": {
   "display_name": "Python 3",
   "language": "python",
   "name": "python3"
  },
  "language_info": {
   "codemirror_mode": {
    "name": "ipython",
    "version": 3
   },
   "file_extension": ".py",
   "mimetype": "text/x-python",
   "name": "python",
   "nbconvert_exporter": "python",
   "pygments_lexer": "ipython3",
   "version": "3.11.0"
  },
  "orig_nbformat": 4,
  "vscode": {
   "interpreter": {
    "hash": "058216bca190b6eda23336dd2204bbce6073b8bcf4040a23ed8218e121a40400"
   }
  }
 },
 "nbformat": 4,
 "nbformat_minor": 2
}
